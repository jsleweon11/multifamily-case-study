{
  "nbformat": 4,
  "nbformat_minor": 0,
  "metadata": {
    "colab": {
      "provenance": [],
      "authorship_tag": "ABX9TyO8GACihXdqWTc2IwdlJW/U",
      "include_colab_link": true
    },
    "kernelspec": {
      "name": "python3",
      "display_name": "Python 3"
    },
    "language_info": {
      "name": "python"
    }
  },
  "cells": [
    {
      "cell_type": "markdown",
      "metadata": {
        "id": "view-in-github",
        "colab_type": "text"
      },
      "source": [
        "<a href=\"https://colab.research.google.com/github/jsleweon11/multifamily-case-study/blob/main/multifamily_case_study.ipynb\" target=\"_parent\"><img src=\"https://colab.research.google.com/assets/colab-badge.svg\" alt=\"Open In Colab\"/></a>"
      ]
    },
    {
      "cell_type": "code",
      "execution_count": 10,
      "metadata": {
        "colab": {
          "base_uri": "https://localhost:8080/"
        },
        "id": "0rUNJuY1OkVF",
        "outputId": "ddd0c486-9cf6-4e7b-d2b4-b164444a614c"
      },
      "outputs": [
        {
          "output_type": "stream",
          "name": "stdout",
          "text": [
            "Cloning into 'multifamily-case-study'...\n",
            "remote: Enumerating objects: 3, done.\u001b[K\n",
            "remote: Counting objects:  33% (1/3)\u001b[K\rremote: Counting objects:  66% (2/3)\u001b[K\rremote: Counting objects: 100% (3/3)\u001b[K\rremote: Counting objects: 100% (3/3), done.\u001b[K\n",
            "remote: Compressing objects:  50% (1/2)\u001b[K\rremote: Compressing objects: 100% (2/2)\u001b[K\rremote: Compressing objects: 100% (2/2), done.\u001b[K\n",
            "remote: Total 3 (delta 0), reused 0 (delta 0), pack-reused 0\u001b[K\n",
            "Receiving objects:  33% (1/3)\rReceiving objects:  66% (2/3)\rReceiving objects: 100% (3/3)\rReceiving objects: 100% (3/3), done.\n",
            "/content/multifamily-case-study/multifamily-case-study/multifamily-case-study\n"
          ]
        },
        {
          "output_type": "stream",
          "name": "stderr",
          "text": [
            "UsageError: Line magic function `%%writefile` not found.\n"
          ]
        }
      ],
      "source": [
        "!git clone https://github.com/jsleweon11/multifamily-case-study.git\n",
        "%cd multifamily-case-study\n",
        "# Add your Python code to multifamily_case_study.py\n",
        "%%writefile multifamily_case_study.py\n",
        "import numpy as np\n",
        "\n",
        "# Parameters\n",
        "purchase_price_per_unit = 120000\n",
        "units = 200\n",
        "purchase_price = purchase_price_per_unit * units\n",
        "initial_occupancy = 0.7\n",
        "gross_sqft = 200000\n",
        "net_rentable_sqft = 180000\n",
        "in_place_rent_psf_per_month = 1.5\n",
        "operating_expenses = 2500000\n",
        "expense_growth_rate = 0.03\n",
        "rent_growth_rate = 0.03\n",
        "stabilized_vacancy_rate = 0.07\n",
        "closing_costs = 300000\n",
        "renovation_period_months = 20\n",
        "units_renovated_per_month = 10\n",
        "interest_rate = 0.045\n",
        "amortization_period_years = 30\n",
        "loan_term_years = 6\n",
        "max_loan_to_value = 0.65\n",
        "cap_rate = 0.06\n",
        "closing_fees = 0.01\n",
        "sale_cap_rate = 0.065\n",
        "sale_fees = 300000\n",
        "\n",
        "# Monthly rent income\n",
        "monthly_rent_income = net_rentable_sqft * in_place_rent_psf_per_month\n",
        "annual_rent_income = monthly_rent_income * 12\n",
        "\n",
        "# Stabilized rent income\n",
        "stabilized_annual_rent_income = annual_rent_income * (1 - stabilized_vacancy_rate)\n",
        "\n",
        "# Annual operating expenses\n",
        "annual_operating_expenses = operating_expenses\n",
        "\n",
        "# NOI (Net Operating Income)\n",
        "noi = stabilized_annual_rent_income - annual_operating_expenses\n",
        "\n",
        "# Maximum loan amount\n",
        "max_loan_amount = noi / cap_rate * max_loan_to_value\n",
        "\n",
        "# Calculate monthly mortgage payment\n",
        "monthly_interest_rate = interest_rate / 12\n",
        "num_payments = amortization_period_years * 12\n",
        "monthly_payment = np.pmt(monthly_interest_rate, num_payments, -max_loan_amount)\n",
        "\n",
        "# Total debt service per year\n",
        "annual_debt_service = monthly_payment * 12\n",
        "\n",
        "# Annual cash flow\n",
        "annual_cash_flow = noi - annual_debt_service\n",
        "\n",
        "# Sale price at exit\n",
        "sale_price = noi / sale_cap_rate\n",
        "\n",
        "# Levered and Unlevered IRR\n",
        "cash_flows = [-purchase_price - closing_costs] + [annual_cash_flow] * loan_term_years + [sale_price - sale_fees]\n",
        "levered_irr = np.irr(cash_flows)\n",
        "unlevered_cash_flows = [-purchase_price - closing_costs] + [noi] * loan_term_years + [sale_price - sale_fees]\n",
        "unlevered_irr = np.irr(unlevered_cash_flows)\n",
        "\n",
        "# Equity Multiple\n",
        "levered_equity_multiple = sum(cash_flows) / (-purchase_price - closing_costs)\n",
        "unlevered_equity_multiple = sum(unlevered_cash_flows) / (-purchase_price - closing_costs)\n",
        "\n",
        "# Results\n",
        "print(f\"Levered IRR: {levered_irr * 100:.2f}%\")\n",
        "print(f\"Unlevered IRR: {unlevered_irr * 100:.2f}%\")\n",
        "print(f\"Levered Equity Multiple: {levered_equity_multiple:.2f}\")\n",
        "print(f\"Unlevered Equity Multiple: {unlevered_equity_multiple:.2f}\")\n",
        "\"\">> multifamily_case_study.py\n",
        "\n",
        "!git add multifamily_case_study.py\n",
        "!git add .\n",
        "\n",
        "# Commit the changes\n",
        "!git commit -m \"Added multifamily case study\"\n",
        "!git commit -m \"Add initial code for Multifamily Case Study\"\n",
        "\n",
        "# Push the commit to the remote repository\n",
        "!git push origin main"
      ]
    }
  ]
}